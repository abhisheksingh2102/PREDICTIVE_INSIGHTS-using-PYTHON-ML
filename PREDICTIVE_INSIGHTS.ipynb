{
 "cells": [
  {
   "cell_type": "markdown",
   "id": "6e22f103",
   "metadata": {},
   "source": [
    "# Complete the steps given below:\n",
    "\n",
    "## 1. Perform necessary EDA on the data\n",
    "## 2. Use machine learning to create clusters of similar projects.\n",
    "## 3. Create a regression model to predict the budget\n",
    "## 4. Create a classification model to predict the value of the Type column."
   ]
  },
  {
   "cell_type": "code",
   "execution_count": 1,
   "id": "19203da4",
   "metadata": {},
   "outputs": [
    {
     "data": {
      "text/html": [
       "<div>\n",
       "<style scoped>\n",
       "    .dataframe tbody tr th:only-of-type {\n",
       "        vertical-align: middle;\n",
       "    }\n",
       "\n",
       "    .dataframe tbody tr th {\n",
       "        vertical-align: top;\n",
       "    }\n",
       "\n",
       "    .dataframe thead th {\n",
       "        text-align: right;\n",
       "    }\n",
       "</style>\n",
       "<table border=\"1\" class=\"dataframe\">\n",
       "  <thead>\n",
       "    <tr style=\"text-align: right;\">\n",
       "      <th></th>\n",
       "      <th>Title</th>\n",
       "      <th>Category Name</th>\n",
       "      <th>Experience</th>\n",
       "      <th>Sub Category Name</th>\n",
       "      <th>Currency</th>\n",
       "      <th>Budget</th>\n",
       "      <th>Location</th>\n",
       "      <th>Freelancer Preferred From</th>\n",
       "      <th>Type</th>\n",
       "      <th>Date Posted</th>\n",
       "      <th>Description</th>\n",
       "      <th>Duration</th>\n",
       "      <th>Client Registration Date</th>\n",
       "      <th>Client City</th>\n",
       "      <th>Client Country</th>\n",
       "      <th>Client Currency</th>\n",
       "      <th>Client Job Title</th>\n",
       "    </tr>\n",
       "  </thead>\n",
       "  <tbody>\n",
       "    <tr>\n",
       "      <th>0</th>\n",
       "      <td>Banner images for web desgin websites</td>\n",
       "      <td>Design</td>\n",
       "      <td>Entry ($)</td>\n",
       "      <td>Graphic Design</td>\n",
       "      <td>EUR</td>\n",
       "      <td>60.0</td>\n",
       "      <td>remote</td>\n",
       "      <td>ALL</td>\n",
       "      <td>fixed_price</td>\n",
       "      <td>2023-04-29 18:06:39</td>\n",
       "      <td>We are looking to improve the banner images on...</td>\n",
       "      <td>NaN</td>\n",
       "      <td>2010-11-03</td>\n",
       "      <td>Dublin</td>\n",
       "      <td>Ireland</td>\n",
       "      <td>EUR</td>\n",
       "      <td>PPC Management</td>\n",
       "    </tr>\n",
       "    <tr>\n",
       "      <th>1</th>\n",
       "      <td>Make my picture a solid silhouette</td>\n",
       "      <td>Video, Photo &amp; Image</td>\n",
       "      <td>Entry ($)</td>\n",
       "      <td>Image Editing</td>\n",
       "      <td>GBP</td>\n",
       "      <td>20.0</td>\n",
       "      <td>remote</td>\n",
       "      <td>ALL</td>\n",
       "      <td>fixed_price</td>\n",
       "      <td>2023-04-29 17:40:28</td>\n",
       "      <td>Hello \\n\\nI need a quick designer to make 4 pi...</td>\n",
       "      <td>NaN</td>\n",
       "      <td>2017-02-21</td>\n",
       "      <td>London</td>\n",
       "      <td>United Kingdom</td>\n",
       "      <td>GBP</td>\n",
       "      <td>Office manager</td>\n",
       "    </tr>\n",
       "    <tr>\n",
       "      <th>2</th>\n",
       "      <td>Bookkeeper needed</td>\n",
       "      <td>Business</td>\n",
       "      <td>Entry ($)</td>\n",
       "      <td>Finance &amp; Accounting</td>\n",
       "      <td>GBP</td>\n",
       "      <td>12.0</td>\n",
       "      <td>remote</td>\n",
       "      <td>ALL</td>\n",
       "      <td>fixed_price</td>\n",
       "      <td>2023-04-29 17:40:06</td>\n",
       "      <td>Hi - I need a bookkeeper to assist with bookke...</td>\n",
       "      <td>NaN</td>\n",
       "      <td>2023-04-09</td>\n",
       "      <td>London</td>\n",
       "      <td>United Kingdom</td>\n",
       "      <td>GBP</td>\n",
       "      <td>Paralegal</td>\n",
       "    </tr>\n",
       "    <tr>\n",
       "      <th>3</th>\n",
       "      <td>Accountant needed</td>\n",
       "      <td>Business</td>\n",
       "      <td>Entry ($)</td>\n",
       "      <td>Tax Consulting &amp; Advising</td>\n",
       "      <td>GBP</td>\n",
       "      <td>14.0</td>\n",
       "      <td>remote</td>\n",
       "      <td>ALL</td>\n",
       "      <td>fixed_price</td>\n",
       "      <td>2023-04-29 17:32:01</td>\n",
       "      <td>Hi - I need an accountant to assist me with un...</td>\n",
       "      <td>NaN</td>\n",
       "      <td>2023-04-09</td>\n",
       "      <td>London</td>\n",
       "      <td>United Kingdom</td>\n",
       "      <td>GBP</td>\n",
       "      <td>Paralegal</td>\n",
       "    </tr>\n",
       "    <tr>\n",
       "      <th>4</th>\n",
       "      <td>Guest Post on High DA Website</td>\n",
       "      <td>Digital Marketing</td>\n",
       "      <td>Expert ($$$)</td>\n",
       "      <td>SEO</td>\n",
       "      <td>USD</td>\n",
       "      <td>10000.0</td>\n",
       "      <td>remote</td>\n",
       "      <td>ALL</td>\n",
       "      <td>fixed_price</td>\n",
       "      <td>2023-04-29 17:09:36</td>\n",
       "      <td>Hi, I am currently running a project where I w...</td>\n",
       "      <td>NaN</td>\n",
       "      <td>2016-07-01</td>\n",
       "      <td>Mumbai</td>\n",
       "      <td>India</td>\n",
       "      <td>USD</td>\n",
       "      <td>Guest posts buyer</td>\n",
       "    </tr>\n",
       "  </tbody>\n",
       "</table>\n",
       "</div>"
      ],
      "text/plain": [
       "                                   Title         Category Name    Experience  \\\n",
       "0  Banner images for web desgin websites                Design     Entry ($)   \n",
       "1    Make my picture a solid silhouette   Video, Photo & Image     Entry ($)   \n",
       "2                      Bookkeeper needed              Business     Entry ($)   \n",
       "3                     Accountant needed               Business     Entry ($)   \n",
       "4          Guest Post on High DA Website     Digital Marketing  Expert ($$$)   \n",
       "\n",
       "           Sub Category Name Currency   Budget Location  \\\n",
       "0             Graphic Design      EUR     60.0   remote   \n",
       "1              Image Editing      GBP     20.0   remote   \n",
       "2       Finance & Accounting      GBP     12.0   remote   \n",
       "3  Tax Consulting & Advising      GBP     14.0   remote   \n",
       "4                        SEO      USD  10000.0   remote   \n",
       "\n",
       "  Freelancer Preferred From         Type          Date Posted  \\\n",
       "0                       ALL  fixed_price  2023-04-29 18:06:39   \n",
       "1                       ALL  fixed_price  2023-04-29 17:40:28   \n",
       "2                       ALL  fixed_price  2023-04-29 17:40:06   \n",
       "3                       ALL  fixed_price  2023-04-29 17:32:01   \n",
       "4                       ALL  fixed_price  2023-04-29 17:09:36   \n",
       "\n",
       "                                         Description Duration  \\\n",
       "0  We are looking to improve the banner images on...      NaN   \n",
       "1  Hello \\n\\nI need a quick designer to make 4 pi...      NaN   \n",
       "2  Hi - I need a bookkeeper to assist with bookke...      NaN   \n",
       "3  Hi - I need an accountant to assist me with un...      NaN   \n",
       "4  Hi, I am currently running a project where I w...      NaN   \n",
       "\n",
       "  Client Registration Date Client City  Client Country Client Currency  \\\n",
       "0               2010-11-03      Dublin         Ireland             EUR   \n",
       "1               2017-02-21      London  United Kingdom             GBP   \n",
       "2               2023-04-09      London  United Kingdom             GBP   \n",
       "3               2023-04-09      London  United Kingdom             GBP   \n",
       "4               2016-07-01      Mumbai           India             USD   \n",
       "\n",
       "    Client Job Title  \n",
       "0     PPC Management  \n",
       "1     Office manager  \n",
       "2          Paralegal  \n",
       "3          Paralegal  \n",
       "4  Guest posts buyer  "
      ]
     },
     "execution_count": 1,
     "metadata": {},
     "output_type": "execute_result"
    }
   ],
   "source": [
    "import pandas as pd\n",
    "  \n",
    "df = pd.read_csv('Freelance_Platform_Projects[1].csv') # reading csv file\n",
    "df.head() # display first five rows"
   ]
  },
  {
   "cell_type": "code",
   "execution_count": 2,
   "id": "f31afd43",
   "metadata": {},
   "outputs": [
    {
     "data": {
      "text/html": [
       "<div>\n",
       "<style scoped>\n",
       "    .dataframe tbody tr th:only-of-type {\n",
       "        vertical-align: middle;\n",
       "    }\n",
       "\n",
       "    .dataframe tbody tr th {\n",
       "        vertical-align: top;\n",
       "    }\n",
       "\n",
       "    .dataframe thead th {\n",
       "        text-align: right;\n",
       "    }\n",
       "</style>\n",
       "<table border=\"1\" class=\"dataframe\">\n",
       "  <thead>\n",
       "    <tr style=\"text-align: right;\">\n",
       "      <th></th>\n",
       "      <th>Title</th>\n",
       "      <th>Category Name</th>\n",
       "      <th>Experience</th>\n",
       "      <th>Sub Category Name</th>\n",
       "      <th>Currency</th>\n",
       "      <th>Budget</th>\n",
       "      <th>Location</th>\n",
       "      <th>Freelancer Preferred From</th>\n",
       "      <th>Type</th>\n",
       "      <th>Date Posted</th>\n",
       "      <th>Description</th>\n",
       "      <th>Duration</th>\n",
       "      <th>Client Registration Date</th>\n",
       "      <th>Client City</th>\n",
       "      <th>Client Country</th>\n",
       "      <th>Client Currency</th>\n",
       "      <th>Client Job Title</th>\n",
       "    </tr>\n",
       "  </thead>\n",
       "  <tbody>\n",
       "    <tr>\n",
       "      <th>12217</th>\n",
       "      <td>Published Travel Writer required for content c...</td>\n",
       "      <td>Writing &amp; Translation</td>\n",
       "      <td>Entry ($)</td>\n",
       "      <td>Content Writing</td>\n",
       "      <td>GBP</td>\n",
       "      <td>50.0</td>\n",
       "      <td>remote</td>\n",
       "      <td>ALL</td>\n",
       "      <td>fixed_price</td>\n",
       "      <td>2023-01-18 19:23:01</td>\n",
       "      <td>I am looking for a published travel writer to ...</td>\n",
       "      <td>NaN</td>\n",
       "      <td>2011-06-06</td>\n",
       "      <td>Amsterdam</td>\n",
       "      <td>Netherlands</td>\n",
       "      <td>GBP</td>\n",
       "      <td>Wordpress Expert</td>\n",
       "    </tr>\n",
       "    <tr>\n",
       "      <th>12218</th>\n",
       "      <td>Shopify - Filtering Work (Product Selection/No...</td>\n",
       "      <td>Design</td>\n",
       "      <td>Intermediate ($$)</td>\n",
       "      <td>Web Design</td>\n",
       "      <td>GBP</td>\n",
       "      <td>65.0</td>\n",
       "      <td>remote_country</td>\n",
       "      <td>GB</td>\n",
       "      <td>fixed_price</td>\n",
       "      <td>2023-01-18 19:18:48</td>\n",
       "      <td>On our website www.juicebitz.co.uk we have add...</td>\n",
       "      <td>1 day or less</td>\n",
       "      <td>2022-03-23</td>\n",
       "      <td>Filey</td>\n",
       "      <td>United Kingdom</td>\n",
       "      <td>GBP</td>\n",
       "      <td>Director</td>\n",
       "    </tr>\n",
       "    <tr>\n",
       "      <th>12219</th>\n",
       "      <td>Simple SQL Query</td>\n",
       "      <td>Technology &amp; Programming</td>\n",
       "      <td>Entry ($)</td>\n",
       "      <td>Data Science &amp; Analysis</td>\n",
       "      <td>GBP</td>\n",
       "      <td>50.0</td>\n",
       "      <td>remote</td>\n",
       "      <td>ALL</td>\n",
       "      <td>fixed_price</td>\n",
       "      <td>2023-01-18 19:18:48</td>\n",
       "      <td>I need someone to write a quick SQL query on a...</td>\n",
       "      <td>NaN</td>\n",
       "      <td>2022-03-14</td>\n",
       "      <td>London</td>\n",
       "      <td>United Kingdom</td>\n",
       "      <td>GBP</td>\n",
       "      <td>NaN</td>\n",
       "    </tr>\n",
       "    <tr>\n",
       "      <th>12220</th>\n",
       "      <td>Create a Carbon, Water, Waste Calculating plat...</td>\n",
       "      <td>Design</td>\n",
       "      <td>Expert ($$$)</td>\n",
       "      <td>Web Design</td>\n",
       "      <td>USD</td>\n",
       "      <td>39.0</td>\n",
       "      <td>remote</td>\n",
       "      <td>ALL</td>\n",
       "      <td>hourly</td>\n",
       "      <td>2023-01-18 19:18:47</td>\n",
       "      <td>I am seeking a full stack web developer who sp...</td>\n",
       "      <td>NaN</td>\n",
       "      <td>2013-07-21</td>\n",
       "      <td>Noida</td>\n",
       "      <td>India</td>\n",
       "      <td>USD</td>\n",
       "      <td>Google Adwords, Pay Per Click, Google Shopping...</td>\n",
       "    </tr>\n",
       "    <tr>\n",
       "      <th>12221</th>\n",
       "      <td>COMPANY REGISTERS</td>\n",
       "      <td>Business</td>\n",
       "      <td>Expert ($$$)</td>\n",
       "      <td>Administration Assistance</td>\n",
       "      <td>GBP</td>\n",
       "      <td>75.0</td>\n",
       "      <td>remote</td>\n",
       "      <td>ALL</td>\n",
       "      <td>fixed_price</td>\n",
       "      <td>2023-01-18 19:18:47</td>\n",
       "      <td>Hi, the following administrative task would be...</td>\n",
       "      <td>NaN</td>\n",
       "      <td>2020-09-21</td>\n",
       "      <td>Grays</td>\n",
       "      <td>United Kingdom</td>\n",
       "      <td>GBP</td>\n",
       "      <td>NaN</td>\n",
       "    </tr>\n",
       "  </tbody>\n",
       "</table>\n",
       "</div>"
      ],
      "text/plain": [
       "                                                   Title  \\\n",
       "12217  Published Travel Writer required for content c...   \n",
       "12218  Shopify - Filtering Work (Product Selection/No...   \n",
       "12219                                   Simple SQL Query   \n",
       "12220  Create a Carbon, Water, Waste Calculating plat...   \n",
       "12221                                  COMPANY REGISTERS   \n",
       "\n",
       "                  Category Name         Experience          Sub Category Name  \\\n",
       "12217     Writing & Translation          Entry ($)            Content Writing   \n",
       "12218                    Design  Intermediate ($$)                 Web Design   \n",
       "12219  Technology & Programming          Entry ($)    Data Science & Analysis   \n",
       "12220                    Design       Expert ($$$)                 Web Design   \n",
       "12221                  Business       Expert ($$$)  Administration Assistance   \n",
       "\n",
       "      Currency  Budget        Location Freelancer Preferred From         Type  \\\n",
       "12217      GBP    50.0          remote                       ALL  fixed_price   \n",
       "12218      GBP    65.0  remote_country                        GB  fixed_price   \n",
       "12219      GBP    50.0          remote                       ALL  fixed_price   \n",
       "12220      USD    39.0          remote                       ALL       hourly   \n",
       "12221      GBP    75.0          remote                       ALL  fixed_price   \n",
       "\n",
       "               Date Posted                                        Description  \\\n",
       "12217  2023-01-18 19:23:01  I am looking for a published travel writer to ...   \n",
       "12218  2023-01-18 19:18:48  On our website www.juicebitz.co.uk we have add...   \n",
       "12219  2023-01-18 19:18:48  I need someone to write a quick SQL query on a...   \n",
       "12220  2023-01-18 19:18:47  I am seeking a full stack web developer who sp...   \n",
       "12221  2023-01-18 19:18:47  Hi, the following administrative task would be...   \n",
       "\n",
       "            Duration Client Registration Date Client City  Client Country  \\\n",
       "12217            NaN               2011-06-06   Amsterdam     Netherlands   \n",
       "12218  1 day or less               2022-03-23       Filey  United Kingdom   \n",
       "12219            NaN               2022-03-14      London  United Kingdom   \n",
       "12220            NaN               2013-07-21       Noida           India   \n",
       "12221            NaN               2020-09-21       Grays  United Kingdom   \n",
       "\n",
       "      Client Currency                                   Client Job Title  \n",
       "12217             GBP                                   Wordpress Expert  \n",
       "12218             GBP                                           Director  \n",
       "12219             GBP                                                NaN  \n",
       "12220             USD  Google Adwords, Pay Per Click, Google Shopping...  \n",
       "12221             GBP                                                NaN  "
      ]
     },
     "execution_count": 2,
     "metadata": {},
     "output_type": "execute_result"
    }
   ],
   "source": [
    "df.tail() # display last five rows"
   ]
  },
  {
   "cell_type": "code",
   "execution_count": 3,
   "id": "b99082fe",
   "metadata": {},
   "outputs": [
    {
     "data": {
      "text/plain": [
       "207774"
      ]
     },
     "execution_count": 3,
     "metadata": {},
     "output_type": "execute_result"
    }
   ],
   "source": [
    "df.size # no of total elements"
   ]
  },
  {
   "cell_type": "code",
   "execution_count": 4,
   "id": "9cd0e22d",
   "metadata": {},
   "outputs": [
    {
     "data": {
      "text/plain": [
       "(12222, 17)"
      ]
     },
     "execution_count": 4,
     "metadata": {},
     "output_type": "execute_result"
    }
   ],
   "source": [
    "df.shape # no of rows = 12222 , no of column = 17"
   ]
  },
  {
   "cell_type": "code",
   "execution_count": 5,
   "id": "b07f77bb",
   "metadata": {},
   "outputs": [
    {
     "name": "stdout",
     "output_type": "stream",
     "text": [
      "<class 'pandas.core.frame.DataFrame'>\n",
      "RangeIndex: 12222 entries, 0 to 12221\n",
      "Data columns (total 17 columns):\n",
      " #   Column                     Non-Null Count  Dtype  \n",
      "---  ------                     --------------  -----  \n",
      " 0   Title                      12222 non-null  object \n",
      " 1   Category Name              12222 non-null  object \n",
      " 2   Experience                 12222 non-null  object \n",
      " 3   Sub Category Name          12222 non-null  object \n",
      " 4   Currency                   12222 non-null  object \n",
      " 5   Budget                     12222 non-null  float64\n",
      " 6   Location                   12222 non-null  object \n",
      " 7   Freelancer Preferred From  12222 non-null  object \n",
      " 8   Type                       12222 non-null  object \n",
      " 9   Date Posted                12222 non-null  object \n",
      " 10  Description                12222 non-null  object \n",
      " 11  Duration                   1602 non-null   object \n",
      " 12  Client Registration Date   12222 non-null  object \n",
      " 13  Client City                12222 non-null  object \n",
      " 14  Client Country             12222 non-null  object \n",
      " 15  Client Currency            12222 non-null  object \n",
      " 16  Client Job Title           4588 non-null   object \n",
      "dtypes: float64(1), object(16)\n",
      "memory usage: 1.6+ MB\n"
     ]
    }
   ],
   "source": [
    "df.info() # detailed info of your data\n",
    "\n",
    "# Number of rows = 12222\n",
    "# Number of columns = 17\n",
    "# For every column\n",
    "# => Name of column\n",
    "# => Number of not null values\n",
    "# => Number of null value = Total rows - Not null values\n",
    "# => Data type\n",
    "# Number of columns for each data type\n",
    "# Memory usage"
   ]
  },
  {
   "cell_type": "code",
   "execution_count": 6,
   "id": "4f9ef11a",
   "metadata": {},
   "outputs": [],
   "source": [
    "df.drop(['Date Posted', 'Client Registration Date'], axis = 1, inplace = True) # droping unnecessary columns"
   ]
  },
  {
   "cell_type": "markdown",
   "id": "c15d422b",
   "metadata": {},
   "source": [
    "# 1) EDA\n",
    "\n",
    "Perform necessary EDA on the data"
   ]
  },
  {
   "cell_type": "markdown",
   "id": "243c0a8e",
   "metadata": {},
   "source": [
    "## Handling Missing Values"
   ]
  },
  {
   "cell_type": "code",
   "execution_count": 7,
   "id": "a32a7bce",
   "metadata": {},
   "outputs": [
    {
     "data": {
      "text/plain": [
       "Title                            0\n",
       "Category Name                    0\n",
       "Experience                       0\n",
       "Sub Category Name                0\n",
       "Currency                         0\n",
       "Budget                           0\n",
       "Location                         0\n",
       "Freelancer Preferred From        0\n",
       "Type                             0\n",
       "Description                      0\n",
       "Duration                     10620\n",
       "Client City                      0\n",
       "Client Country                   0\n",
       "Client Currency                  0\n",
       "Client Job Title              7634\n",
       "dtype: int64"
      ]
     },
     "execution_count": 7,
     "metadata": {},
     "output_type": "execute_result"
    }
   ],
   "source": [
    "df.isnull().sum() # total no of missing values in each column"
   ]
  },
  {
   "cell_type": "raw",
   "id": "4c25e7ea",
   "metadata": {},
   "source": [
    "Here, we have 2 option to deal with this:\n",
    "1) Deletion : removal of data or records from a dataset.\n",
    "2) Imputation : process of filling in missing values with estimated or substituted data."
   ]
  },
  {
   "cell_type": "code",
   "execution_count": 8,
   "id": "57d2f730",
   "metadata": {},
   "outputs": [
    {
     "data": {
      "text/plain": [
       "0        NaN\n",
       "1        NaN\n",
       "2        NaN\n",
       "3        NaN\n",
       "4        NaN\n",
       "        ... \n",
       "12216    NaN\n",
       "12217    NaN\n",
       "12219    NaN\n",
       "12220    NaN\n",
       "12221    NaN\n",
       "Name: Duration, Length: 10620, dtype: object"
      ]
     },
     "execution_count": 8,
     "metadata": {},
     "output_type": "execute_result"
    }
   ],
   "source": [
    "# display the rows in which the 'Duration' column has missing values. \n",
    "\n",
    "missing_rows = df.index[df['Duration'].isna()==True]\n",
    "df.loc[missing_rows,'Duration']"
   ]
  },
  {
   "cell_type": "code",
   "execution_count": 9,
   "id": "8a9c2101",
   "metadata": {},
   "outputs": [
    {
     "data": {
      "text/html": [
       "<div>\n",
       "<style scoped>\n",
       "    .dataframe tbody tr th:only-of-type {\n",
       "        vertical-align: middle;\n",
       "    }\n",
       "\n",
       "    .dataframe tbody tr th {\n",
       "        vertical-align: top;\n",
       "    }\n",
       "\n",
       "    .dataframe thead th {\n",
       "        text-align: right;\n",
       "    }\n",
       "</style>\n",
       "<table border=\"1\" class=\"dataframe\">\n",
       "  <thead>\n",
       "    <tr style=\"text-align: right;\">\n",
       "      <th></th>\n",
       "      <th>Title</th>\n",
       "      <th>Category Name</th>\n",
       "      <th>Experience</th>\n",
       "      <th>Sub Category Name</th>\n",
       "      <th>Currency</th>\n",
       "      <th>Budget</th>\n",
       "      <th>Location</th>\n",
       "      <th>Freelancer Preferred From</th>\n",
       "      <th>Type</th>\n",
       "      <th>Description</th>\n",
       "      <th>Duration</th>\n",
       "      <th>Client City</th>\n",
       "      <th>Client Country</th>\n",
       "      <th>Client Currency</th>\n",
       "      <th>Client Job Title</th>\n",
       "    </tr>\n",
       "  </thead>\n",
       "  <tbody>\n",
       "    <tr>\n",
       "      <th>0</th>\n",
       "      <td>Banner images for web desgin websites</td>\n",
       "      <td>Design</td>\n",
       "      <td>Entry ($)</td>\n",
       "      <td>Graphic Design</td>\n",
       "      <td>EUR</td>\n",
       "      <td>60.0</td>\n",
       "      <td>remote</td>\n",
       "      <td>ALL</td>\n",
       "      <td>fixed_price</td>\n",
       "      <td>We are looking to improve the banner images on...</td>\n",
       "      <td>Not Available</td>\n",
       "      <td>Dublin</td>\n",
       "      <td>Ireland</td>\n",
       "      <td>EUR</td>\n",
       "      <td>PPC Management</td>\n",
       "    </tr>\n",
       "    <tr>\n",
       "      <th>1</th>\n",
       "      <td>Make my picture a solid silhouette</td>\n",
       "      <td>Video, Photo &amp; Image</td>\n",
       "      <td>Entry ($)</td>\n",
       "      <td>Image Editing</td>\n",
       "      <td>GBP</td>\n",
       "      <td>20.0</td>\n",
       "      <td>remote</td>\n",
       "      <td>ALL</td>\n",
       "      <td>fixed_price</td>\n",
       "      <td>Hello \\n\\nI need a quick designer to make 4 pi...</td>\n",
       "      <td>Not Available</td>\n",
       "      <td>London</td>\n",
       "      <td>United Kingdom</td>\n",
       "      <td>GBP</td>\n",
       "      <td>Office manager</td>\n",
       "    </tr>\n",
       "    <tr>\n",
       "      <th>2</th>\n",
       "      <td>Bookkeeper needed</td>\n",
       "      <td>Business</td>\n",
       "      <td>Entry ($)</td>\n",
       "      <td>Finance &amp; Accounting</td>\n",
       "      <td>GBP</td>\n",
       "      <td>12.0</td>\n",
       "      <td>remote</td>\n",
       "      <td>ALL</td>\n",
       "      <td>fixed_price</td>\n",
       "      <td>Hi - I need a bookkeeper to assist with bookke...</td>\n",
       "      <td>Not Available</td>\n",
       "      <td>London</td>\n",
       "      <td>United Kingdom</td>\n",
       "      <td>GBP</td>\n",
       "      <td>Paralegal</td>\n",
       "    </tr>\n",
       "    <tr>\n",
       "      <th>3</th>\n",
       "      <td>Accountant needed</td>\n",
       "      <td>Business</td>\n",
       "      <td>Entry ($)</td>\n",
       "      <td>Tax Consulting &amp; Advising</td>\n",
       "      <td>GBP</td>\n",
       "      <td>14.0</td>\n",
       "      <td>remote</td>\n",
       "      <td>ALL</td>\n",
       "      <td>fixed_price</td>\n",
       "      <td>Hi - I need an accountant to assist me with un...</td>\n",
       "      <td>Not Available</td>\n",
       "      <td>London</td>\n",
       "      <td>United Kingdom</td>\n",
       "      <td>GBP</td>\n",
       "      <td>Paralegal</td>\n",
       "    </tr>\n",
       "    <tr>\n",
       "      <th>4</th>\n",
       "      <td>Guest Post on High DA Website</td>\n",
       "      <td>Digital Marketing</td>\n",
       "      <td>Expert ($$$)</td>\n",
       "      <td>SEO</td>\n",
       "      <td>USD</td>\n",
       "      <td>10000.0</td>\n",
       "      <td>remote</td>\n",
       "      <td>ALL</td>\n",
       "      <td>fixed_price</td>\n",
       "      <td>Hi, I am currently running a project where I w...</td>\n",
       "      <td>Not Available</td>\n",
       "      <td>Mumbai</td>\n",
       "      <td>India</td>\n",
       "      <td>USD</td>\n",
       "      <td>Guest posts buyer</td>\n",
       "    </tr>\n",
       "    <tr>\n",
       "      <th>...</th>\n",
       "      <td>...</td>\n",
       "      <td>...</td>\n",
       "      <td>...</td>\n",
       "      <td>...</td>\n",
       "      <td>...</td>\n",
       "      <td>...</td>\n",
       "      <td>...</td>\n",
       "      <td>...</td>\n",
       "      <td>...</td>\n",
       "      <td>...</td>\n",
       "      <td>...</td>\n",
       "      <td>...</td>\n",
       "      <td>...</td>\n",
       "      <td>...</td>\n",
       "      <td>...</td>\n",
       "    </tr>\n",
       "    <tr>\n",
       "      <th>12216</th>\n",
       "      <td>Simple SQL Query</td>\n",
       "      <td>Technology &amp; Programming</td>\n",
       "      <td>Entry ($)</td>\n",
       "      <td>Databases</td>\n",
       "      <td>GBP</td>\n",
       "      <td>30.0</td>\n",
       "      <td>remote</td>\n",
       "      <td>ALL</td>\n",
       "      <td>fixed_price</td>\n",
       "      <td>I need someone to write a quick SQL query base...</td>\n",
       "      <td>Not Available</td>\n",
       "      <td>London</td>\n",
       "      <td>United Kingdom</td>\n",
       "      <td>GBP</td>\n",
       "      <td>NaN</td>\n",
       "    </tr>\n",
       "    <tr>\n",
       "      <th>12217</th>\n",
       "      <td>Published Travel Writer required for content c...</td>\n",
       "      <td>Writing &amp; Translation</td>\n",
       "      <td>Entry ($)</td>\n",
       "      <td>Content Writing</td>\n",
       "      <td>GBP</td>\n",
       "      <td>50.0</td>\n",
       "      <td>remote</td>\n",
       "      <td>ALL</td>\n",
       "      <td>fixed_price</td>\n",
       "      <td>I am looking for a published travel writer to ...</td>\n",
       "      <td>Not Available</td>\n",
       "      <td>Amsterdam</td>\n",
       "      <td>Netherlands</td>\n",
       "      <td>GBP</td>\n",
       "      <td>Wordpress Expert</td>\n",
       "    </tr>\n",
       "    <tr>\n",
       "      <th>12219</th>\n",
       "      <td>Simple SQL Query</td>\n",
       "      <td>Technology &amp; Programming</td>\n",
       "      <td>Entry ($)</td>\n",
       "      <td>Data Science &amp; Analysis</td>\n",
       "      <td>GBP</td>\n",
       "      <td>50.0</td>\n",
       "      <td>remote</td>\n",
       "      <td>ALL</td>\n",
       "      <td>fixed_price</td>\n",
       "      <td>I need someone to write a quick SQL query on a...</td>\n",
       "      <td>Not Available</td>\n",
       "      <td>London</td>\n",
       "      <td>United Kingdom</td>\n",
       "      <td>GBP</td>\n",
       "      <td>NaN</td>\n",
       "    </tr>\n",
       "    <tr>\n",
       "      <th>12220</th>\n",
       "      <td>Create a Carbon, Water, Waste Calculating plat...</td>\n",
       "      <td>Design</td>\n",
       "      <td>Expert ($$$)</td>\n",
       "      <td>Web Design</td>\n",
       "      <td>USD</td>\n",
       "      <td>39.0</td>\n",
       "      <td>remote</td>\n",
       "      <td>ALL</td>\n",
       "      <td>hourly</td>\n",
       "      <td>I am seeking a full stack web developer who sp...</td>\n",
       "      <td>Not Available</td>\n",
       "      <td>Noida</td>\n",
       "      <td>India</td>\n",
       "      <td>USD</td>\n",
       "      <td>Google Adwords, Pay Per Click, Google Shopping...</td>\n",
       "    </tr>\n",
       "    <tr>\n",
       "      <th>12221</th>\n",
       "      <td>COMPANY REGISTERS</td>\n",
       "      <td>Business</td>\n",
       "      <td>Expert ($$$)</td>\n",
       "      <td>Administration Assistance</td>\n",
       "      <td>GBP</td>\n",
       "      <td>75.0</td>\n",
       "      <td>remote</td>\n",
       "      <td>ALL</td>\n",
       "      <td>fixed_price</td>\n",
       "      <td>Hi, the following administrative task would be...</td>\n",
       "      <td>Not Available</td>\n",
       "      <td>Grays</td>\n",
       "      <td>United Kingdom</td>\n",
       "      <td>GBP</td>\n",
       "      <td>NaN</td>\n",
       "    </tr>\n",
       "  </tbody>\n",
       "</table>\n",
       "<p>10620 rows × 15 columns</p>\n",
       "</div>"
      ],
      "text/plain": [
       "                                                   Title  \\\n",
       "0                  Banner images for web desgin websites   \n",
       "1                    Make my picture a solid silhouette    \n",
       "2                                      Bookkeeper needed   \n",
       "3                                     Accountant needed    \n",
       "4                          Guest Post on High DA Website   \n",
       "...                                                  ...   \n",
       "12216                                   Simple SQL Query   \n",
       "12217  Published Travel Writer required for content c...   \n",
       "12219                                   Simple SQL Query   \n",
       "12220  Create a Carbon, Water, Waste Calculating plat...   \n",
       "12221                                  COMPANY REGISTERS   \n",
       "\n",
       "                  Category Name    Experience          Sub Category Name  \\\n",
       "0                        Design     Entry ($)             Graphic Design   \n",
       "1          Video, Photo & Image     Entry ($)              Image Editing   \n",
       "2                      Business     Entry ($)       Finance & Accounting   \n",
       "3                      Business     Entry ($)  Tax Consulting & Advising   \n",
       "4             Digital Marketing  Expert ($$$)                        SEO   \n",
       "...                         ...           ...                        ...   \n",
       "12216  Technology & Programming     Entry ($)                  Databases   \n",
       "12217     Writing & Translation     Entry ($)            Content Writing   \n",
       "12219  Technology & Programming     Entry ($)    Data Science & Analysis   \n",
       "12220                    Design  Expert ($$$)                 Web Design   \n",
       "12221                  Business  Expert ($$$)  Administration Assistance   \n",
       "\n",
       "      Currency   Budget Location Freelancer Preferred From         Type  \\\n",
       "0          EUR     60.0   remote                       ALL  fixed_price   \n",
       "1          GBP     20.0   remote                       ALL  fixed_price   \n",
       "2          GBP     12.0   remote                       ALL  fixed_price   \n",
       "3          GBP     14.0   remote                       ALL  fixed_price   \n",
       "4          USD  10000.0   remote                       ALL  fixed_price   \n",
       "...        ...      ...      ...                       ...          ...   \n",
       "12216      GBP     30.0   remote                       ALL  fixed_price   \n",
       "12217      GBP     50.0   remote                       ALL  fixed_price   \n",
       "12219      GBP     50.0   remote                       ALL  fixed_price   \n",
       "12220      USD     39.0   remote                       ALL       hourly   \n",
       "12221      GBP     75.0   remote                       ALL  fixed_price   \n",
       "\n",
       "                                             Description       Duration  \\\n",
       "0      We are looking to improve the banner images on...  Not Available   \n",
       "1      Hello \\n\\nI need a quick designer to make 4 pi...  Not Available   \n",
       "2      Hi - I need a bookkeeper to assist with bookke...  Not Available   \n",
       "3      Hi - I need an accountant to assist me with un...  Not Available   \n",
       "4      Hi, I am currently running a project where I w...  Not Available   \n",
       "...                                                  ...            ...   \n",
       "12216  I need someone to write a quick SQL query base...  Not Available   \n",
       "12217  I am looking for a published travel writer to ...  Not Available   \n",
       "12219  I need someone to write a quick SQL query on a...  Not Available   \n",
       "12220  I am seeking a full stack web developer who sp...  Not Available   \n",
       "12221  Hi, the following administrative task would be...  Not Available   \n",
       "\n",
       "      Client City  Client Country Client Currency  \\\n",
       "0          Dublin         Ireland             EUR   \n",
       "1          London  United Kingdom             GBP   \n",
       "2          London  United Kingdom             GBP   \n",
       "3          London  United Kingdom             GBP   \n",
       "4          Mumbai           India             USD   \n",
       "...           ...             ...             ...   \n",
       "12216      London  United Kingdom             GBP   \n",
       "12217   Amsterdam     Netherlands             GBP   \n",
       "12219      London  United Kingdom             GBP   \n",
       "12220       Noida           India             USD   \n",
       "12221       Grays  United Kingdom             GBP   \n",
       "\n",
       "                                        Client Job Title  \n",
       "0                                         PPC Management  \n",
       "1                                         Office manager  \n",
       "2                                              Paralegal  \n",
       "3                                              Paralegal  \n",
       "4                                      Guest posts buyer  \n",
       "...                                                  ...  \n",
       "12216                                                NaN  \n",
       "12217                                   Wordpress Expert  \n",
       "12219                                                NaN  \n",
       "12220  Google Adwords, Pay Per Click, Google Shopping...  \n",
       "12221                                                NaN  \n",
       "\n",
       "[10620 rows x 15 columns]"
      ]
     },
     "execution_count": 9,
     "metadata": {},
     "output_type": "execute_result"
    }
   ],
   "source": [
    "# Imputation (Maximum values are missing so we can't delete it because after deletion we will have very less data)\n",
    "\n",
    "df['Duration'].fillna(\"Not Available\", inplace=True)\n",
    "df.loc[missing_rows,:]"
   ]
  },
  {
   "cell_type": "code",
   "execution_count": 10,
   "id": "036482f2",
   "metadata": {},
   "outputs": [
    {
     "data": {
      "text/plain": [
       "6        NaN\n",
       "8        NaN\n",
       "9        NaN\n",
       "11       NaN\n",
       "15       NaN\n",
       "        ... \n",
       "12213    NaN\n",
       "12214    NaN\n",
       "12216    NaN\n",
       "12219    NaN\n",
       "12221    NaN\n",
       "Name: Client Job Title, Length: 7634, dtype: object"
      ]
     },
     "execution_count": 10,
     "metadata": {},
     "output_type": "execute_result"
    }
   ],
   "source": [
    "# display the rows in which the 'Client Job Title' column has missing values. \n",
    "\n",
    "missing_rows = df.index[df['Client Job Title'].isna()==True]\n",
    "df.loc[missing_rows,'Client Job Title']"
   ]
  },
  {
   "cell_type": "code",
   "execution_count": 11,
   "id": "d485b200",
   "metadata": {},
   "outputs": [
    {
     "data": {
      "text/html": [
       "<div>\n",
       "<style scoped>\n",
       "    .dataframe tbody tr th:only-of-type {\n",
       "        vertical-align: middle;\n",
       "    }\n",
       "\n",
       "    .dataframe tbody tr th {\n",
       "        vertical-align: top;\n",
       "    }\n",
       "\n",
       "    .dataframe thead th {\n",
       "        text-align: right;\n",
       "    }\n",
       "</style>\n",
       "<table border=\"1\" class=\"dataframe\">\n",
       "  <thead>\n",
       "    <tr style=\"text-align: right;\">\n",
       "      <th></th>\n",
       "      <th>Title</th>\n",
       "      <th>Category Name</th>\n",
       "      <th>Experience</th>\n",
       "      <th>Sub Category Name</th>\n",
       "      <th>Currency</th>\n",
       "      <th>Budget</th>\n",
       "      <th>Location</th>\n",
       "      <th>Freelancer Preferred From</th>\n",
       "      <th>Type</th>\n",
       "      <th>Description</th>\n",
       "      <th>Duration</th>\n",
       "      <th>Client City</th>\n",
       "      <th>Client Country</th>\n",
       "      <th>Client Currency</th>\n",
       "      <th>Client Job Title</th>\n",
       "    </tr>\n",
       "  </thead>\n",
       "  <tbody>\n",
       "    <tr>\n",
       "      <th>6</th>\n",
       "      <td>Make web site for Tutoring company</td>\n",
       "      <td>Design</td>\n",
       "      <td>Entry ($)</td>\n",
       "      <td>Web Design</td>\n",
       "      <td>USD</td>\n",
       "      <td>10.0</td>\n",
       "      <td>remote</td>\n",
       "      <td>ALL</td>\n",
       "      <td>fixed_price</td>\n",
       "      <td>I need to build web site for my tutoring compa...</td>\n",
       "      <td>1 - 2 weeks</td>\n",
       "      <td>London</td>\n",
       "      <td>United Kingdom</td>\n",
       "      <td>USD</td>\n",
       "      <td>Not Available</td>\n",
       "    </tr>\n",
       "    <tr>\n",
       "      <th>8</th>\n",
       "      <td>E-learning</td>\n",
       "      <td>Design</td>\n",
       "      <td>Intermediate ($$)</td>\n",
       "      <td>Illustration &amp; Drawing</td>\n",
       "      <td>GBP</td>\n",
       "      <td>0.0</td>\n",
       "      <td>remote</td>\n",
       "      <td>ALL</td>\n",
       "      <td>fixed_price</td>\n",
       "      <td>Looking for a quote for an introductory e-lear...</td>\n",
       "      <td>Not Available</td>\n",
       "      <td>Glasgow</td>\n",
       "      <td>United Kingdom</td>\n",
       "      <td>GBP</td>\n",
       "      <td>Not Available</td>\n",
       "    </tr>\n",
       "    <tr>\n",
       "      <th>9</th>\n",
       "      <td>19 sentences recording. native english speaker...</td>\n",
       "      <td>Music &amp; Audio</td>\n",
       "      <td>Entry ($)</td>\n",
       "      <td>Voice-Over</td>\n",
       "      <td>USD</td>\n",
       "      <td>10.0</td>\n",
       "      <td>remote</td>\n",
       "      <td>ALL</td>\n",
       "      <td>fixed_price</td>\n",
       "      <td>1.  need native speaker from US or UK or CA\\n2...</td>\n",
       "      <td>Not Available</td>\n",
       "      <td>Sydney</td>\n",
       "      <td>Australia</td>\n",
       "      <td>GBP</td>\n",
       "      <td>Not Available</td>\n",
       "    </tr>\n",
       "    <tr>\n",
       "      <th>11</th>\n",
       "      <td>Looking for someone to configure AWS server</td>\n",
       "      <td>Technology &amp; Programming</td>\n",
       "      <td>Expert ($$$)</td>\n",
       "      <td>Website Development</td>\n",
       "      <td>EUR</td>\n",
       "      <td>31.0</td>\n",
       "      <td>remote</td>\n",
       "      <td>ALL</td>\n",
       "      <td>hourly</td>\n",
       "      <td>Hi we are looking to deploy our domain from go...</td>\n",
       "      <td>Not Available</td>\n",
       "      <td>Budapest</td>\n",
       "      <td>Hungary</td>\n",
       "      <td>USD</td>\n",
       "      <td>Not Available</td>\n",
       "    </tr>\n",
       "    <tr>\n",
       "      <th>15</th>\n",
       "      <td>Logo colour change</td>\n",
       "      <td>Design</td>\n",
       "      <td>Entry ($)</td>\n",
       "      <td>Logo Design</td>\n",
       "      <td>USD</td>\n",
       "      <td>10.0</td>\n",
       "      <td>remote</td>\n",
       "      <td>ALL</td>\n",
       "      <td>fixed_price</td>\n",
       "      <td>Very easy job, I literally just need my logo c...</td>\n",
       "      <td>Not Available</td>\n",
       "      <td>Menai</td>\n",
       "      <td>Australia</td>\n",
       "      <td>USD</td>\n",
       "      <td>Not Available</td>\n",
       "    </tr>\n",
       "    <tr>\n",
       "      <th>...</th>\n",
       "      <td>...</td>\n",
       "      <td>...</td>\n",
       "      <td>...</td>\n",
       "      <td>...</td>\n",
       "      <td>...</td>\n",
       "      <td>...</td>\n",
       "      <td>...</td>\n",
       "      <td>...</td>\n",
       "      <td>...</td>\n",
       "      <td>...</td>\n",
       "      <td>...</td>\n",
       "      <td>...</td>\n",
       "      <td>...</td>\n",
       "      <td>...</td>\n",
       "      <td>...</td>\n",
       "    </tr>\n",
       "    <tr>\n",
       "      <th>12213</th>\n",
       "      <td>Need someone with Clickhouse Database expertise</td>\n",
       "      <td>Technology &amp; Programming</td>\n",
       "      <td>Entry ($)</td>\n",
       "      <td>Databases</td>\n",
       "      <td>USD</td>\n",
       "      <td>120.0</td>\n",
       "      <td>remote</td>\n",
       "      <td>ALL</td>\n",
       "      <td>fixed_price</td>\n",
       "      <td>I want to do a clickhouse database project whi...</td>\n",
       "      <td>Not Available</td>\n",
       "      <td>Fremont</td>\n",
       "      <td>United States</td>\n",
       "      <td>USD</td>\n",
       "      <td>Not Available</td>\n",
       "    </tr>\n",
       "    <tr>\n",
       "      <th>12214</th>\n",
       "      <td>modify existing flyer</td>\n",
       "      <td>Design</td>\n",
       "      <td>Entry ($)</td>\n",
       "      <td>Graphic Design</td>\n",
       "      <td>USD</td>\n",
       "      <td>15.0</td>\n",
       "      <td>remote</td>\n",
       "      <td>ALL</td>\n",
       "      <td>fixed_price</td>\n",
       "      <td>i would like to modify a existing flyer which ...</td>\n",
       "      <td>Not Available</td>\n",
       "      <td>Dieburg</td>\n",
       "      <td>Germany</td>\n",
       "      <td>EUR</td>\n",
       "      <td>Not Available</td>\n",
       "    </tr>\n",
       "    <tr>\n",
       "      <th>12216</th>\n",
       "      <td>Simple SQL Query</td>\n",
       "      <td>Technology &amp; Programming</td>\n",
       "      <td>Entry ($)</td>\n",
       "      <td>Databases</td>\n",
       "      <td>GBP</td>\n",
       "      <td>30.0</td>\n",
       "      <td>remote</td>\n",
       "      <td>ALL</td>\n",
       "      <td>fixed_price</td>\n",
       "      <td>I need someone to write a quick SQL query base...</td>\n",
       "      <td>Not Available</td>\n",
       "      <td>London</td>\n",
       "      <td>United Kingdom</td>\n",
       "      <td>GBP</td>\n",
       "      <td>Not Available</td>\n",
       "    </tr>\n",
       "    <tr>\n",
       "      <th>12219</th>\n",
       "      <td>Simple SQL Query</td>\n",
       "      <td>Technology &amp; Programming</td>\n",
       "      <td>Entry ($)</td>\n",
       "      <td>Data Science &amp; Analysis</td>\n",
       "      <td>GBP</td>\n",
       "      <td>50.0</td>\n",
       "      <td>remote</td>\n",
       "      <td>ALL</td>\n",
       "      <td>fixed_price</td>\n",
       "      <td>I need someone to write a quick SQL query on a...</td>\n",
       "      <td>Not Available</td>\n",
       "      <td>London</td>\n",
       "      <td>United Kingdom</td>\n",
       "      <td>GBP</td>\n",
       "      <td>Not Available</td>\n",
       "    </tr>\n",
       "    <tr>\n",
       "      <th>12221</th>\n",
       "      <td>COMPANY REGISTERS</td>\n",
       "      <td>Business</td>\n",
       "      <td>Expert ($$$)</td>\n",
       "      <td>Administration Assistance</td>\n",
       "      <td>GBP</td>\n",
       "      <td>75.0</td>\n",
       "      <td>remote</td>\n",
       "      <td>ALL</td>\n",
       "      <td>fixed_price</td>\n",
       "      <td>Hi, the following administrative task would be...</td>\n",
       "      <td>Not Available</td>\n",
       "      <td>Grays</td>\n",
       "      <td>United Kingdom</td>\n",
       "      <td>GBP</td>\n",
       "      <td>Not Available</td>\n",
       "    </tr>\n",
       "  </tbody>\n",
       "</table>\n",
       "<p>7634 rows × 15 columns</p>\n",
       "</div>"
      ],
      "text/plain": [
       "                                                   Title  \\\n",
       "6                     Make web site for Tutoring company   \n",
       "8                                             E-learning   \n",
       "9      19 sentences recording. native english speaker...   \n",
       "11           Looking for someone to configure AWS server   \n",
       "15                                    Logo colour change   \n",
       "...                                                  ...   \n",
       "12213   Need someone with Clickhouse Database expertise    \n",
       "12214                            modify existing flyer     \n",
       "12216                                   Simple SQL Query   \n",
       "12219                                   Simple SQL Query   \n",
       "12221                                  COMPANY REGISTERS   \n",
       "\n",
       "                  Category Name         Experience          Sub Category Name  \\\n",
       "6                        Design          Entry ($)                 Web Design   \n",
       "8                        Design  Intermediate ($$)     Illustration & Drawing   \n",
       "9                 Music & Audio          Entry ($)                 Voice-Over   \n",
       "11     Technology & Programming       Expert ($$$)        Website Development   \n",
       "15                       Design          Entry ($)                Logo Design   \n",
       "...                         ...                ...                        ...   \n",
       "12213  Technology & Programming          Entry ($)                  Databases   \n",
       "12214                    Design          Entry ($)             Graphic Design   \n",
       "12216  Technology & Programming          Entry ($)                  Databases   \n",
       "12219  Technology & Programming          Entry ($)    Data Science & Analysis   \n",
       "12221                  Business       Expert ($$$)  Administration Assistance   \n",
       "\n",
       "      Currency  Budget Location Freelancer Preferred From         Type  \\\n",
       "6          USD    10.0   remote                       ALL  fixed_price   \n",
       "8          GBP     0.0   remote                       ALL  fixed_price   \n",
       "9          USD    10.0   remote                       ALL  fixed_price   \n",
       "11         EUR    31.0   remote                       ALL       hourly   \n",
       "15         USD    10.0   remote                       ALL  fixed_price   \n",
       "...        ...     ...      ...                       ...          ...   \n",
       "12213      USD   120.0   remote                       ALL  fixed_price   \n",
       "12214      USD    15.0   remote                       ALL  fixed_price   \n",
       "12216      GBP    30.0   remote                       ALL  fixed_price   \n",
       "12219      GBP    50.0   remote                       ALL  fixed_price   \n",
       "12221      GBP    75.0   remote                       ALL  fixed_price   \n",
       "\n",
       "                                             Description       Duration  \\\n",
       "6      I need to build web site for my tutoring compa...    1 - 2 weeks   \n",
       "8      Looking for a quote for an introductory e-lear...  Not Available   \n",
       "9      1.  need native speaker from US or UK or CA\\n2...  Not Available   \n",
       "11     Hi we are looking to deploy our domain from go...  Not Available   \n",
       "15     Very easy job, I literally just need my logo c...  Not Available   \n",
       "...                                                  ...            ...   \n",
       "12213  I want to do a clickhouse database project whi...  Not Available   \n",
       "12214  i would like to modify a existing flyer which ...  Not Available   \n",
       "12216  I need someone to write a quick SQL query base...  Not Available   \n",
       "12219  I need someone to write a quick SQL query on a...  Not Available   \n",
       "12221  Hi, the following administrative task would be...  Not Available   \n",
       "\n",
       "      Client City  Client Country Client Currency Client Job Title  \n",
       "6          London  United Kingdom             USD    Not Available  \n",
       "8         Glasgow  United Kingdom             GBP    Not Available  \n",
       "9          Sydney       Australia             GBP    Not Available  \n",
       "11       Budapest         Hungary             USD    Not Available  \n",
       "15          Menai       Australia             USD    Not Available  \n",
       "...           ...             ...             ...              ...  \n",
       "12213     Fremont   United States             USD    Not Available  \n",
       "12214     Dieburg         Germany             EUR    Not Available  \n",
       "12216      London  United Kingdom             GBP    Not Available  \n",
       "12219      London  United Kingdom             GBP    Not Available  \n",
       "12221       Grays  United Kingdom             GBP    Not Available  \n",
       "\n",
       "[7634 rows x 15 columns]"
      ]
     },
     "execution_count": 11,
     "metadata": {},
     "output_type": "execute_result"
    }
   ],
   "source": [
    "# Imputation \n",
    "\n",
    "df['Client Job Title'].fillna(\"Not Available\", inplace=True)\n",
    "df.loc[missing_rows,:]"
   ]
  },
  {
   "cell_type": "markdown",
   "id": "045cf62e",
   "metadata": {},
   "source": [
    "## Handling Outliers"
   ]
  },
  {
   "cell_type": "code",
   "execution_count": 12,
   "id": "615b9775",
   "metadata": {},
   "outputs": [
    {
     "data": {
      "text/plain": [
       "<Axes: >"
      ]
     },
     "execution_count": 12,
     "metadata": {},
     "output_type": "execute_result"
    },
    {
     "data": {
      "image/png": "[encoded data removed]",
      "text/plain": [
       "<Figure size 640x480 with 1 Axes>"
      ]
     },
     "metadata": {},
     "output_type": "display_data"
    }
   ],
   "source": [
    "import seaborn as sns \n",
    "\n",
    "sns.boxplot(df['Budget']) # checking outliers(we are using 'Budget' column because it is only numeric column we have)"
   ]
  },
  {
   "cell_type": "code",
   "execution_count": 13,
   "id": "be2a3619",
   "metadata": {},
   "outputs": [
    {
     "data": {
      "image/png": "[encoded data removed]",
      "text/plain": [
       "<Figure size 640x480 with 1 Axes>"
      ]
     },
     "metadata": {},
     "output_type": "display_data"
    }
   ],
   "source": [
    "import matplotlib.pyplot as plt\n",
    "\n",
    "plt.hist(df['Budget']) # Create a histogram of the 'Budget' column in the DataFrame 'df'\n",
    "plt.show()"
   ]
  },
  {
   "cell_type": "code",
   "execution_count": 14,
   "id": "51993622",
   "metadata": {},
   "outputs": [
    {
     "data": {
      "text/plain": [
       "42.455398395555996"
      ]
     },
     "execution_count": 14,
     "metadata": {},
     "output_type": "execute_result"
    }
   ],
   "source": [
    "# probably the reason of so many outliers is 'skewness'\n",
    "\n",
    "df['Budget'].skew() # >5 is considered as high "
   ]
  },
  {
   "cell_type": "code",
   "execution_count": 15,
   "id": "c3973096",
   "metadata": {},
   "outputs": [
    {
     "data": {
      "text/plain": [
       "-0.021454219174626175"
      ]
     },
     "execution_count": 15,
     "metadata": {},
     "output_type": "execute_result"
    }
   ],
   "source": [
    "# to handle skewness we use boxcox \n",
    "\n",
    "from scipy.stats import boxcox\n",
    "\n",
    "df['Budget'] = df['Budget'] + 1  # Adding 1 to make values positive\n",
    "df['Budget'] = boxcox(df['Budget'])[0]\n",
    "df['Budget'].skew()"
   ]
  },
  {
   "cell_type": "code",
   "execution_count": 16,
   "id": "f73f02aa",
   "metadata": {},
   "outputs": [
    {
     "data": {
      "image/png": "[encoded data removed]",
      "text/plain": [
       "<Figure size 640x480 with 1 Axes>"
      ]
     },
     "metadata": {},
     "output_type": "display_data"
    }
   ],
   "source": [
    "plt.hist(df['Budget'])\n",
    "plt.show()"
   ]
  },
  {
   "cell_type": "code",
   "execution_count": 17,
   "id": "41dbbf8b",
   "metadata": {},
   "outputs": [
    {
     "data": {
      "text/plain": [
       "<Axes: >"
      ]
     },
     "execution_count": 17,
     "metadata": {},
     "output_type": "execute_result"
    },
    {
     "data": {
      "image/png": "[encoded data removed]",
      "text/plain": [
       "<Figure size 640x480 with 1 Axes>"
      ]
     },
     "metadata": {},
     "output_type": "display_data"
    }
   ],
   "source": [
    "# Calculate the IQR, lower, and upper bounds\n",
    "\n",
    "Q1 = df['Budget'].quantile(0.25)\n",
    "Q3 = df['Budget'].quantile(0.75)\n",
    "IQR = Q3 - Q1\n",
    "lower_bound = Q1 - 1.5 * IQR\n",
    "upper_bound = Q3 + 1.5 * IQR\n",
    "\n",
    "# Identify and remove outliers\n",
    "outliers = df[(df['Budget'] < lower_bound) | (df['Budget'] > upper_bound)]\n",
    "df = df[(df['Budget'] >= lower_bound) & (df['Budget'] <= upper_bound)]\n",
    "\n",
    "# Create the box plot\n",
    "sns.boxplot(df['Budget'])"
   ]
  },
  {
   "cell_type": "markdown",
   "id": "216d3622",
   "metadata": {},
   "source": [
    "*The EDA phase revealed and addressed missing values in 'Duration' and 'Client Job Title.' Successful transformations, including Box-Cox on 'Budget,' mitigated skewness. Cleaned and visualized data now sets the stage for categorical data encoding in the Freelance Platform analysis.*"
   ]
  },
  {
   "cell_type": "markdown",
   "id": "745f4424",
   "metadata": {},
   "source": [
    "## Categorical Data Encoding"
   ]
  },
  {
   "cell_type": "code",
   "execution_count": 18,
   "id": "3bff6305",
   "metadata": {},
   "outputs": [
    {
     "data": {
      "text/plain": [
       "Title                         object\n",
       "Category Name                 object\n",
       "Experience                    object\n",
       "Sub Category Name             object\n",
       "Currency                      object\n",
       "Budget                       float64\n",
       "Location                      object\n",
       "Freelancer Preferred From     object\n",
       "Type                          object\n",
       "Description                   object\n",
       "Duration                      object\n",
       "Client City                   object\n",
       "Client Country                object\n",
       "Client Currency               object\n",
       "Client Job Title              object\n",
       "dtype: object"
      ]
     },
     "execution_count": 18,
     "metadata": {},
     "output_type": "execute_result"
    }
   ],
   "source": [
    "df.dtypes"
   ]
  },
  {
   "cell_type": "code",
   "execution_count": 19,
   "id": "d9145543",
   "metadata": {},
   "outputs": [
    {
     "name": "stdout",
     "output_type": "stream",
     "text": [
      "0     956\n",
      "1    6335\n",
      "2    1094\n",
      "3     461\n",
      "5    1800\n",
      "Name: Title, dtype: int32\n",
      "0    1\n",
      "1    7\n",
      "2    0\n",
      "3    0\n",
      "5    6\n",
      "Name: Category Name, dtype: int32\n",
      "0    0\n",
      "1    0\n",
      "2    0\n",
      "3    0\n",
      "5    1\n",
      "Name: Experience, dtype: int32\n",
      "0    42\n",
      "1    45\n",
      "2    37\n",
      "3    90\n",
      "5    26\n",
      "Name: Sub Category Name, dtype: int32\n",
      "0    0\n",
      "1    1\n",
      "2    1\n",
      "3    1\n",
      "5    0\n",
      "Name: Currency, dtype: int32\n",
      "0    1\n",
      "1    1\n",
      "2    1\n",
      "3    1\n",
      "5    1\n",
      "Name: Location, dtype: int32\n",
      "0    1\n",
      "1    1\n",
      "2    1\n",
      "3    1\n",
      "5    1\n",
      "Name: Freelancer Preferred From, dtype: int32\n",
      "0    0\n",
      "1    0\n",
      "2    0\n",
      "3    0\n",
      "5    0\n",
      "Name: Type, dtype: int32\n",
      "0    10364\n",
      "1     1236\n",
      "2     2161\n",
      "3     2163\n",
      "5      564\n",
      "Name: Description, dtype: int32\n",
      "0    21\n",
      "1    21\n",
      "2    21\n",
      "3    21\n",
      "5    21\n",
      "Name: Duration, dtype: int32\n",
      "0    489\n",
      "1    936\n",
      "2    936\n",
      "3    936\n",
      "5    488\n",
      "Name: Client City, dtype: int32\n",
      "0     61\n",
      "1    129\n",
      "2    129\n",
      "3    129\n",
      "5    128\n",
      "Name: Client Country, dtype: int32\n",
      "0    0\n",
      "1    1\n",
      "2    1\n",
      "3    1\n",
      "5    0\n",
      "Name: Client Currency, dtype: int32\n",
      "0    1177\n",
      "1    1127\n",
      "2    1194\n",
      "3    1194\n",
      "5     149\n",
      "Name: Client Job Title, dtype: int32\n"
     ]
    }
   ],
   "source": [
    "# Label Encoding (Label encoding is used to represent categorical data as ordinal integers)\n",
    "\n",
    "from sklearn.preprocessing import LabelEncoder\n",
    "\n",
    "def label_encode_columns(df, columns):\n",
    "    for col in columns:\n",
    "        encoder = LabelEncoder()\n",
    "        encoding = encoder.fit_transform(df[col])\n",
    "        df[col] = encoding\n",
    "        var = df[col].head()\n",
    "        print(var)\n",
    "\n",
    "# List of columns to label encode\n",
    "columns_to_encode = ['Title', 'Category Name', 'Experience', 'Sub Category Name', 'Currency',\n",
    "                     'Location', 'Freelancer Preferred From', 'Type', 'Description', 'Duration',\n",
    "                     'Client City', 'Client Country', 'Client Currency', 'Client Job Title']\n",
    "\n",
    "# Call the function to label encode the specified columns\n",
    "label_encode_columns(df, columns_to_encode)"
   ]
  },
  {
   "cell_type": "raw",
   "id": "1cf02909",
   "metadata": {},
   "source": [
    "Scaling : Scaling improve the performance and interpretability of various machine learning algorithms.\n",
    "          Types - 1) StandardScaler 2) MinMaxScaler"
   ]
  },
  {
   "cell_type": "code",
   "execution_count": 20,
   "id": "94582f1e",
   "metadata": {},
   "outputs": [
    {
     "data": {
      "text/plain": [
       "0   -0.123392\n",
       "1   -1.141924\n",
       "2   -1.639954\n",
       "3   -1.488617\n",
       "5    1.571911\n",
       "Name: Budget, dtype: float64"
      ]
     },
     "execution_count": 20,
     "metadata": {},
     "output_type": "execute_result"
    }
   ],
   "source": [
    "# we are using SS because it is suitable for a wide range of data and models\n",
    "\n",
    "from sklearn.preprocessing import StandardScaler\n",
    "\n",
    "scaler = StandardScaler()\n",
    "df['Budget'] = scaler.fit_transform(df[['Budget']]) # fit - calculating mean and sd of data & transform - value after scaling \n",
    "df['Budget'][:5]"
   ]
  },
  {
   "cell_type": "code",
   "execution_count": 21,
   "id": "80edc447",
   "metadata": {},
   "outputs": [
    {
     "data": {
      "text/plain": [
       "8.809324647310018e-16"
      ]
     },
     "execution_count": 21,
     "metadata": {},
     "output_type": "execute_result"
    }
   ],
   "source": [
    "df['Budget'].mean() # Calculate the mean value of the 'result' data"
   ]
  },
  {
   "cell_type": "code",
   "execution_count": 22,
   "id": "d674f3c3",
   "metadata": {},
   "outputs": [
    {
     "data": {
      "text/plain": [
       "0.12815933375328264"
      ]
     },
     "execution_count": 22,
     "metadata": {},
     "output_type": "execute_result"
    }
   ],
   "source": [
    "import numpy as np\n",
    "median_value = np.median(df['Budget']) # Calculate the median value of the 'result' data using numpy\n",
    "median_value"
   ]
  },
  {
   "cell_type": "code",
   "execution_count": 23,
   "id": "76100192",
   "metadata": {},
   "outputs": [
    {
     "name": "stderr",
     "output_type": "stream",
     "text": [
      "C:\\Users\\Sapna\\AppData\\Local\\Temp\\ipykernel_21676\\2282642316.py:2: FutureWarning: Unlike other reduction functions (e.g. `skew`, `kurtosis`), the default behavior of `mode` typically preserves the axis it acts along. In SciPy 1.11.0, this behavior will change: the default value of `keepdims` will become False, the `axis` over which the statistic is taken will be eliminated, and the value None will no longer be accepted. Set `keepdims` to True or False to avoid this warning.\n",
      "  mode_value = stats.mode(df['Budget']) # Calculate the mode value of the 'result' data using scipy's mode function\n"
     ]
    },
    {
     "data": {
      "text/plain": [
       "ModeResult(mode=array([0.31861116]), count=array([743]))"
      ]
     },
     "execution_count": 23,
     "metadata": {},
     "output_type": "execute_result"
    }
   ],
   "source": [
    "from scipy import stats\n",
    "mode_value = stats.mode(df['Budget']) # Calculate the mode value of the 'result' data using scipy's mode function\n",
    "mode_value"
   ]
  },
  {
   "cell_type": "code",
   "execution_count": 24,
   "id": "3c9094e0",
   "metadata": {},
   "outputs": [
    {
     "data": {
      "text/plain": [
       "1.0000412056781718"
      ]
     },
     "execution_count": 24,
     "metadata": {},
     "output_type": "execute_result"
    }
   ],
   "source": [
    "df['Budget'].std() # Calculate the standard deviation of the 'result' data"
   ]
  },
  {
   "cell_type": "code",
   "execution_count": 25,
   "id": "86530b0d",
   "metadata": {},
   "outputs": [
    {
     "data": {
      "text/plain": [
       "-2.322457346222455"
      ]
     },
     "execution_count": 25,
     "metadata": {},
     "output_type": "execute_result"
    }
   ],
   "source": [
    "df['Budget'].min() # Find the minimum value in the 'Budget' column of the DataFrame 'df'"
   ]
  },
  {
   "cell_type": "code",
   "execution_count": 26,
   "id": "da002afe",
   "metadata": {},
   "outputs": [
    {
     "data": {
      "text/plain": [
       "2.7526630506423064"
      ]
     },
     "execution_count": 26,
     "metadata": {},
     "output_type": "execute_result"
    }
   ],
   "source": [
    "df['Budget'].max() # Find the maximum value in the 'Budget' column of the DataFrame 'df'"
   ]
  },
  {
   "cell_type": "raw",
   "id": "55dff113",
   "metadata": {},
   "source": [
    "Unsupervised Learning : a type of machine learning where the algorithm is trained on data without explicit supervision or  \n",
    "                        labeled outcomes.(most common way of doing UL is 'Clustering')"
   ]
  },
  {
   "cell_type": "markdown",
   "id": "ec9f885b",
   "metadata": {},
   "source": [
    "# 2) Cluster\n",
    "\n",
    "Use machine learning to create clusters of similar projects."
   ]
  },
  {
   "cell_type": "raw",
   "id": "37509974",
   "metadata": {},
   "source": [
    "Data points within one cluster are expected to be similar to each other.\n",
    "\n",
    "Data points in different clusters are expected to be different from each other.\n",
    "\n",
    "k-mean clustering : It aims to partition the n observation into k (<=n) sets so as to minimize the within cluster sum of squares(wcss)"
   ]
  },
  {
   "cell_type": "code",
   "execution_count": 27,
   "id": "99bf84bf",
   "metadata": {},
   "outputs": [
    {
     "data": {
      "text/html": [
       "<div>\n",
       "<style scoped>\n",
       "    .dataframe tbody tr th:only-of-type {\n",
       "        vertical-align: middle;\n",
       "    }\n",
       "\n",
       "    .dataframe tbody tr th {\n",
       "        vertical-align: top;\n",
       "    }\n",
       "\n",
       "    .dataframe thead th {\n",
       "        text-align: right;\n",
       "    }\n",
       "</style>\n",
       "<table border=\"1\" class=\"dataframe\">\n",
       "  <thead>\n",
       "    <tr style=\"text-align: right;\">\n",
       "      <th></th>\n",
       "      <th>Title</th>\n",
       "      <th>Category Name</th>\n",
       "      <th>Experience</th>\n",
       "      <th>Sub Category Name</th>\n",
       "      <th>Currency</th>\n",
       "    </tr>\n",
       "  </thead>\n",
       "  <tbody>\n",
       "    <tr>\n",
       "      <th>0</th>\n",
       "      <td>956</td>\n",
       "      <td>1</td>\n",
       "      <td>0</td>\n",
       "      <td>42</td>\n",
       "      <td>0</td>\n",
       "    </tr>\n",
       "    <tr>\n",
       "      <th>1</th>\n",
       "      <td>6335</td>\n",
       "      <td>7</td>\n",
       "      <td>0</td>\n",
       "      <td>45</td>\n",
       "      <td>1</td>\n",
       "    </tr>\n",
       "    <tr>\n",
       "      <th>2</th>\n",
       "      <td>1094</td>\n",
       "      <td>0</td>\n",
       "      <td>0</td>\n",
       "      <td>37</td>\n",
       "      <td>1</td>\n",
       "    </tr>\n",
       "    <tr>\n",
       "      <th>3</th>\n",
       "      <td>461</td>\n",
       "      <td>0</td>\n",
       "      <td>0</td>\n",
       "      <td>90</td>\n",
       "      <td>1</td>\n",
       "    </tr>\n",
       "    <tr>\n",
       "      <th>5</th>\n",
       "      <td>1800</td>\n",
       "      <td>6</td>\n",
       "      <td>1</td>\n",
       "      <td>26</td>\n",
       "      <td>0</td>\n",
       "    </tr>\n",
       "  </tbody>\n",
       "</table>\n",
       "</div>"
      ],
      "text/plain": [
       "   Title  Category Name  Experience  Sub Category Name  Currency\n",
       "0    956              1           0                 42         0\n",
       "1   6335              7           0                 45         1\n",
       "2   1094              0           0                 37         1\n",
       "3    461              0           0                 90         1\n",
       "5   1800              6           1                 26         0"
      ]
     },
     "execution_count": 27,
     "metadata": {},
     "output_type": "execute_result"
    }
   ],
   "source": [
    "x = df.iloc[:, [0,1,2,3,4]]\n",
    "x.head()"
   ]
  },
  {
   "cell_type": "code",
   "execution_count": 28,
   "id": "49d51d4f",
   "metadata": {},
   "outputs": [
    {
     "name": "stderr",
     "output_type": "stream",
     "text": [
      "C:\\Users\\Sapna\\anaconda3\\Lib\\site-packages\\sklearn\\cluster\\_kmeans.py:1412: FutureWarning: The default value of `n_init` will change from 10 to 'auto' in 1.4. Set the value of `n_init` explicitly to suppress the warning\n",
      "  super()._check_params_vs_input(X, default_n_init=10)\n",
      "C:\\Users\\Sapna\\anaconda3\\Lib\\site-packages\\sklearn\\cluster\\_kmeans.py:1412: FutureWarning: The default value of `n_init` will change from 10 to 'auto' in 1.4. Set the value of `n_init` explicitly to suppress the warning\n",
      "  super()._check_params_vs_input(X, default_n_init=10)\n",
      "C:\\Users\\Sapna\\anaconda3\\Lib\\site-packages\\sklearn\\cluster\\_kmeans.py:1412: FutureWarning: The default value of `n_init` will change from 10 to 'auto' in 1.4. Set the value of `n_init` explicitly to suppress the warning\n",
      "  super()._check_params_vs_input(X, default_n_init=10)\n",
      "C:\\Users\\Sapna\\anaconda3\\Lib\\site-packages\\sklearn\\cluster\\_kmeans.py:1412: FutureWarning: The default value of `n_init` will change from 10 to 'auto' in 1.4. Set the value of `n_init` explicitly to suppress the warning\n",
      "  super()._check_params_vs_input(X, default_n_init=10)\n",
      "C:\\Users\\Sapna\\anaconda3\\Lib\\site-packages\\sklearn\\cluster\\_kmeans.py:1412: FutureWarning: The default value of `n_init` will change from 10 to 'auto' in 1.4. Set the value of `n_init` explicitly to suppress the warning\n",
      "  super()._check_params_vs_input(X, default_n_init=10)\n",
      "C:\\Users\\Sapna\\anaconda3\\Lib\\site-packages\\sklearn\\cluster\\_kmeans.py:1412: FutureWarning: The default value of `n_init` will change from 10 to 'auto' in 1.4. Set the value of `n_init` explicitly to suppress the warning\n",
      "  super()._check_params_vs_input(X, default_n_init=10)\n",
      "C:\\Users\\Sapna\\anaconda3\\Lib\\site-packages\\sklearn\\cluster\\_kmeans.py:1412: FutureWarning: The default value of `n_init` will change from 10 to 'auto' in 1.4. Set the value of `n_init` explicitly to suppress the warning\n",
      "  super()._check_params_vs_input(X, default_n_init=10)\n",
      "C:\\Users\\Sapna\\anaconda3\\Lib\\site-packages\\sklearn\\cluster\\_kmeans.py:1412: FutureWarning: The default value of `n_init` will change from 10 to 'auto' in 1.4. Set the value of `n_init` explicitly to suppress the warning\n",
      "  super()._check_params_vs_input(X, default_n_init=10)\n",
      "C:\\Users\\Sapna\\anaconda3\\Lib\\site-packages\\sklearn\\cluster\\_kmeans.py:1412: FutureWarning: The default value of `n_init` will change from 10 to 'auto' in 1.4. Set the value of `n_init` explicitly to suppress the warning\n",
      "  super()._check_params_vs_input(X, default_n_init=10)\n",
      "C:\\Users\\Sapna\\anaconda3\\Lib\\site-packages\\sklearn\\cluster\\_kmeans.py:1412: FutureWarning: The default value of `n_init` will change from 10 to 'auto' in 1.4. Set the value of `n_init` explicitly to suppress the warning\n",
      "  super()._check_params_vs_input(X, default_n_init=10)\n"
     ]
    },
    {
     "data": {
      "text/plain": [
       "[133590593098.89883,\n",
       " 33673749945.201637,\n",
       " 14791009912.387062,\n",
       " 8402181170.971884,\n",
       " 5352893478.058541,\n",
       " 3753074008.9142294,\n",
       " 2727246908.3242903,\n",
       " 2105682609.3717194,\n",
       " 1656576858.0774162,\n",
       " 1361923227.0093756]"
      ]
     },
     "execution_count": 28,
     "metadata": {},
     "output_type": "execute_result"
    }
   ],
   "source": [
    "from sklearn.cluster import KMeans\n",
    "\n",
    "wcss_list = []\n",
    "# Loop through a range of cluster numbers from 1 to 10\n",
    "for i in range(1,11):\n",
    "    model = KMeans(n_clusters=i)\n",
    "    model.fit(x)\n",
    "    wcss = model.inertia_ # Calculate the WCSS for the current number of clusters\n",
    "    wcss_list.append(wcss) # Append the WCSS value to the list\n",
    "     \n",
    "wcss_list # Display the list of WCSS values for different cluster numbers"
   ]
  },
  {
   "cell_type": "code",
   "execution_count": 29,
   "id": "f4f04ba7",
   "metadata": {},
   "outputs": [
    {
     "data": {
      "image/png": "[encoded data removed]",
      "text/plain": [
       "<Figure size 640x480 with 1 Axes>"
      ]
     },
     "metadata": {},
     "output_type": "display_data"
    }
   ],
   "source": [
    "import matplotlib.pyplot as plt \n",
    "\n",
    "plt.plot(range(1,11), wcss_list,'-o') # Create a line plot of the WCSS values for different numbers of clusters\n",
    "plt.title('Elbow Method Graph') # Set the title of the plot\n",
    "plt.xlabel('Number of Clusters') # Set the label for the x-axis\n",
    "plt.ylabel('WCSS') # Set the label for the y-axis\n",
    "plt.show() # Display the plot"
   ]
  },
  {
   "cell_type": "code",
   "execution_count": 30,
   "id": "099dbd44",
   "metadata": {},
   "outputs": [
    {
     "name": "stderr",
     "output_type": "stream",
     "text": [
      "C:\\Users\\Sapna\\anaconda3\\Lib\\site-packages\\sklearn\\cluster\\_kmeans.py:1412: FutureWarning: The default value of `n_init` will change from 10 to 'auto' in 1.4. Set the value of `n_init` explicitly to suppress the warning\n",
      "  super()._check_params_vs_input(X, default_n_init=10)\n"
     ]
    },
    {
     "data": {
      "text/plain": [
       "array([1, 2, 1])"
      ]
     },
     "execution_count": 30,
     "metadata": {},
     "output_type": "execute_result"
    }
   ],
   "source": [
    "kmeans = KMeans(n_clusters=3)\n",
    "kmeans.fit(x) # no 'y' because it's unsupervised\n",
    "pred = kmeans.predict(x)\n",
    "pred[:3]"
   ]
  },
  {
   "cell_type": "code",
   "execution_count": 31,
   "id": "b90cb126",
   "metadata": {},
   "outputs": [
    {
     "data": {
      "text/plain": [
       "array([[9.60625118e+03, 4.03734130e+00, 6.55215335e-01, 6.26300722e+01,\n",
       "        1.17176998e+00],\n",
       "       [1.93272638e+03, 3.61090550e+00, 7.01702443e-01, 5.25756230e+01,\n",
       "        1.17542561e+00],\n",
       "       [5.79369200e+03, 3.47601476e+00, 6.94464945e-01, 5.51355474e+01,\n",
       "        1.20713407e+00]])"
      ]
     },
     "execution_count": 31,
     "metadata": {},
     "output_type": "execute_result"
    }
   ],
   "source": [
    "kmeans.cluster_centers_"
   ]
  },
  {
   "cell_type": "code",
   "execution_count": 32,
   "id": "5a01a58f",
   "metadata": {},
   "outputs": [
    {
     "data": {
      "image/png": "[encoded data removed]",
      "text/plain": [
       "<Figure size 640x480 with 1 Axes>"
      ]
     },
     "metadata": {},
     "output_type": "display_data"
    }
   ],
   "source": [
    "# Create scatter plots for each cluster and cluster centers\n",
    "\n",
    "plt.scatter(x.iloc[pred==0, 0], x.iloc[pred==0, 1],\n",
    "           s=100, c='blue', label='Cluster 1')\n",
    "plt.scatter(x.iloc[pred==1, 0], x.iloc[pred==1, 1],\n",
    "           s=100, c='green', label='Cluster 2')\n",
    "plt.scatter(x.iloc[pred==2, 0], x.iloc[pred==2, 1],\n",
    "           s=100, c='red', label='Cluster 3')\n",
    "plt.scatter(kmeans.cluster_centers_[:,0],\n",
    "           kmeans.cluster_centers_[:, 1],\n",
    "           s=200, c='magenta', label='Cluster Centers')\n",
    "plt.title('Clusters of Project') # Set the title of the plot\n",
    "plt.xlabel('Location') # Set the label for the x-axis\n",
    "plt.ylabel('Category Name') # Set the label for the y-axis\n",
    "plt.legend() # Add a legend to the plot to distinguish data points and cluster centers\n",
    "plt.show() # Display the plot"
   ]
  },
  {
   "cell_type": "markdown",
   "id": "b50397cb",
   "metadata": {},
   "source": [
    "# 3) Regression\n",
    "\n",
    "Create a regression model to predict the 'budget'."
   ]
  },
  {
   "cell_type": "raw",
   "id": "d8badea8",
   "metadata": {},
   "source": [
    "Target variable is continuous('Budget')"
   ]
  },
  {
   "cell_type": "code",
   "execution_count": 33,
   "id": "07bc4932",
   "metadata": {},
   "outputs": [
    {
     "data": {
      "text/html": [
       "<div>\n",
       "<style scoped>\n",
       "    .dataframe tbody tr th:only-of-type {\n",
       "        vertical-align: middle;\n",
       "    }\n",
       "\n",
       "    .dataframe tbody tr th {\n",
       "        vertical-align: top;\n",
       "    }\n",
       "\n",
       "    .dataframe thead th {\n",
       "        text-align: right;\n",
       "    }\n",
       "</style>\n",
       "<table border=\"1\" class=\"dataframe\">\n",
       "  <thead>\n",
       "    <tr style=\"text-align: right;\">\n",
       "      <th></th>\n",
       "      <th>Title</th>\n",
       "      <th>Category Name</th>\n",
       "      <th>Experience</th>\n",
       "      <th>Sub Category Name</th>\n",
       "      <th>Currency</th>\n",
       "      <th>Budget</th>\n",
       "      <th>Location</th>\n",
       "      <th>Freelancer Preferred From</th>\n",
       "      <th>Type</th>\n",
       "      <th>Description</th>\n",
       "      <th>Duration</th>\n",
       "      <th>Client City</th>\n",
       "      <th>Client Country</th>\n",
       "      <th>Client Currency</th>\n",
       "      <th>Client Job Title</th>\n",
       "    </tr>\n",
       "  </thead>\n",
       "  <tbody>\n",
       "    <tr>\n",
       "      <th>0</th>\n",
       "      <td>956</td>\n",
       "      <td>1</td>\n",
       "      <td>0</td>\n",
       "      <td>42</td>\n",
       "      <td>0</td>\n",
       "      <td>-0.123392</td>\n",
       "      <td>1</td>\n",
       "      <td>1</td>\n",
       "      <td>0</td>\n",
       "      <td>10364</td>\n",
       "      <td>21</td>\n",
       "      <td>489</td>\n",
       "      <td>61</td>\n",
       "      <td>0</td>\n",
       "      <td>1177</td>\n",
       "    </tr>\n",
       "    <tr>\n",
       "      <th>1</th>\n",
       "      <td>6335</td>\n",
       "      <td>7</td>\n",
       "      <td>0</td>\n",
       "      <td>45</td>\n",
       "      <td>1</td>\n",
       "      <td>-1.141924</td>\n",
       "      <td>1</td>\n",
       "      <td>1</td>\n",
       "      <td>0</td>\n",
       "      <td>1236</td>\n",
       "      <td>21</td>\n",
       "      <td>936</td>\n",
       "      <td>129</td>\n",
       "      <td>1</td>\n",
       "      <td>1127</td>\n",
       "    </tr>\n",
       "    <tr>\n",
       "      <th>2</th>\n",
       "      <td>1094</td>\n",
       "      <td>0</td>\n",
       "      <td>0</td>\n",
       "      <td>37</td>\n",
       "      <td>1</td>\n",
       "      <td>-1.639954</td>\n",
       "      <td>1</td>\n",
       "      <td>1</td>\n",
       "      <td>0</td>\n",
       "      <td>2161</td>\n",
       "      <td>21</td>\n",
       "      <td>936</td>\n",
       "      <td>129</td>\n",
       "      <td>1</td>\n",
       "      <td>1194</td>\n",
       "    </tr>\n",
       "    <tr>\n",
       "      <th>3</th>\n",
       "      <td>461</td>\n",
       "      <td>0</td>\n",
       "      <td>0</td>\n",
       "      <td>90</td>\n",
       "      <td>1</td>\n",
       "      <td>-1.488617</td>\n",
       "      <td>1</td>\n",
       "      <td>1</td>\n",
       "      <td>0</td>\n",
       "      <td>2163</td>\n",
       "      <td>21</td>\n",
       "      <td>936</td>\n",
       "      <td>129</td>\n",
       "      <td>1</td>\n",
       "      <td>1194</td>\n",
       "    </tr>\n",
       "    <tr>\n",
       "      <th>5</th>\n",
       "      <td>1800</td>\n",
       "      <td>6</td>\n",
       "      <td>1</td>\n",
       "      <td>26</td>\n",
       "      <td>0</td>\n",
       "      <td>1.571911</td>\n",
       "      <td>1</td>\n",
       "      <td>1</td>\n",
       "      <td>0</td>\n",
       "      <td>564</td>\n",
       "      <td>21</td>\n",
       "      <td>488</td>\n",
       "      <td>128</td>\n",
       "      <td>0</td>\n",
       "      <td>149</td>\n",
       "    </tr>\n",
       "  </tbody>\n",
       "</table>\n",
       "</div>"
      ],
      "text/plain": [
       "   Title  Category Name  Experience  Sub Category Name  Currency    Budget  \\\n",
       "0    956              1           0                 42         0 -0.123392   \n",
       "1   6335              7           0                 45         1 -1.141924   \n",
       "2   1094              0           0                 37         1 -1.639954   \n",
       "3    461              0           0                 90         1 -1.488617   \n",
       "5   1800              6           1                 26         0  1.571911   \n",
       "\n",
       "   Location  Freelancer Preferred From  Type  Description  Duration  \\\n",
       "0         1                          1     0        10364        21   \n",
       "1         1                          1     0         1236        21   \n",
       "2         1                          1     0         2161        21   \n",
       "3         1                          1     0         2163        21   \n",
       "5         1                          1     0          564        21   \n",
       "\n",
       "   Client City  Client Country  Client Currency  Client Job Title  \n",
       "0          489              61                0              1177  \n",
       "1          936             129                1              1127  \n",
       "2          936             129                1              1194  \n",
       "3          936             129                1              1194  \n",
       "5          488             128                0               149  "
      ]
     },
     "execution_count": 33,
     "metadata": {},
     "output_type": "execute_result"
    }
   ],
   "source": [
    "df.head()"
   ]
  },
  {
   "cell_type": "code",
   "execution_count": 34,
   "id": "6d0ba741",
   "metadata": {},
   "outputs": [],
   "source": [
    "# split the data into x and y\n",
    "\n",
    "x = df.drop(columns=['Budget'])\n",
    "y = df['Budget']"
   ]
  },
  {
   "cell_type": "code",
   "execution_count": 35,
   "id": "5be8dfc5",
   "metadata": {},
   "outputs": [],
   "source": [
    "# Split the data into training and testing\n",
    "\n",
    "from sklearn.model_selection import train_test_split\n",
    "\n",
    "xtrain, xtest, ytrain, ytest=train_test_split(x,y,\n",
    "                                              train_size=0.7,\n",
    "                                             random_state=1)"
   ]
  },
  {
   "cell_type": "markdown",
   "id": "ad269fbd",
   "metadata": {},
   "source": [
    "### XGBoost Regression"
   ]
  },
  {
   "cell_type": "code",
   "execution_count": 36,
   "id": "fe6779ac",
   "metadata": {},
   "outputs": [
    {
     "name": "stdout",
     "output_type": "stream",
     "text": [
      "Requirement already satisfied: xgboost in c:\\users\\sapna\\anaconda3\\lib\\site-packages (2.0.0)\n",
      "Requirement already satisfied: numpy in c:\\users\\sapna\\anaconda3\\lib\\site-packages (from xgboost) (1.24.3)\n",
      "Requirement already satisfied: scipy in c:\\users\\sapna\\anaconda3\\lib\\site-packages (from xgboost) (1.10.1)\n"
     ]
    }
   ],
   "source": [
    "!pip install xgboost"
   ]
  },
  {
   "cell_type": "code",
   "execution_count": 37,
   "id": "2de1d869",
   "metadata": {},
   "outputs": [
    {
     "data": {
      "text/plain": [
       "array([ 1.3640537 ,  1.3072898 , -1.5222318 ,  0.99022496, -0.66387075],\n",
       "      dtype=float32)"
      ]
     },
     "execution_count": 37,
     "metadata": {},
     "output_type": "execute_result"
    }
   ],
   "source": [
    "import xgboost as xgb\n",
    "\n",
    "model = xgb.XGBRegressor() # Create an instance of the XGBRegressor model\n",
    "model.fit(xtrain, ytrain) # Fit the model to the training data\n",
    "trainpred = model.predict(xtrain) # Make predictions on the training data\n",
    "trainpred[:5] # Display the first 5 predictions"
   ]
  },
  {
   "cell_type": "code",
   "execution_count": 38,
   "id": "cc64369f",
   "metadata": {},
   "outputs": [
    {
     "data": {
      "text/plain": [
       "array([-0.7291285 ,  0.70003724, -1.0932764 , ..., -0.944017  ,\n",
       "       -0.6009989 , -1.0011668 ], dtype=float32)"
      ]
     },
     "execution_count": 38,
     "metadata": {},
     "output_type": "execute_result"
    }
   ],
   "source": [
    "testpred = model.predict(xtest) # Make predictions on the test data using the trained model\n",
    "testpred # Display the test predictions"
   ]
  },
  {
   "cell_type": "code",
   "execution_count": 39,
   "id": "3cf48e6e",
   "metadata": {},
   "outputs": [
    {
     "data": {
      "text/plain": [
       "0.13185775409381667"
      ]
     },
     "execution_count": 39,
     "metadata": {},
     "output_type": "execute_result"
    }
   ],
   "source": [
    "from sklearn.metrics import mean_squared_error\n",
    "\n",
    "mean_squared_error(ytrain, trainpred) # Calculate the mean squared error for training data"
   ]
  },
  {
   "cell_type": "code",
   "execution_count": 40,
   "id": "2c949748",
   "metadata": {},
   "outputs": [
    {
     "data": {
      "text/plain": [
       "0.3316048886167132"
      ]
     },
     "execution_count": 40,
     "metadata": {},
     "output_type": "execute_result"
    }
   ],
   "source": [
    "mean_squared_error(ytest, testpred) # Calculate the mean squared error for test data"
   ]
  },
  {
   "cell_type": "code",
   "execution_count": 41,
   "id": "198ed7e7",
   "metadata": {},
   "outputs": [
    {
     "data": {
      "text/plain": [
       "0.25981870039243443"
      ]
     },
     "execution_count": 41,
     "metadata": {},
     "output_type": "execute_result"
    }
   ],
   "source": [
    "from sklearn.metrics import mean_absolute_error\n",
    "\n",
    "# Calculate the mean absolute error (MAE) for the training predictions and true training labels\n",
    "mae_train = mean_absolute_error(ytrain,trainpred)\n",
    "mae_train"
   ]
  },
  {
   "cell_type": "code",
   "execution_count": 42,
   "id": "f905f352",
   "metadata": {},
   "outputs": [
    {
     "data": {
      "text/plain": [
       "0.42899353652810474"
      ]
     },
     "execution_count": 42,
     "metadata": {},
     "output_type": "execute_result"
    }
   ],
   "source": [
    "# Calculate the mean absolute error (MAE) for the testing predictions and true testing labels\n",
    "mae_test = mean_absolute_error(ytest,testpred)\n",
    "mae_test"
   ]
  },
  {
   "cell_type": "markdown",
   "id": "095cd161",
   "metadata": {},
   "source": [
    "*The regression model, powered by XGBoost, is doing wonders! It's nailing the budget predictions with an impressive precision – the Mean Squared Error (MSE) is a low 0.332 on the test set. And the Mean Absolute Error (MAE) of 0.429? It's like saying it's almost always spot-on with the budget calls.*"
   ]
  },
  {
   "cell_type": "markdown",
   "id": "6ab4059b",
   "metadata": {},
   "source": [
    "# 4) Classification\n",
    "\n",
    "Create a classification model to predict the value of the 'Type' column."
   ]
  },
  {
   "cell_type": "code",
   "execution_count": 43,
   "id": "3a9a627a",
   "metadata": {},
   "outputs": [],
   "source": [
    "# split the data into x and y\n",
    "\n",
    "x = df.drop(columns=['Type'])\n",
    "y = df['Type']"
   ]
  },
  {
   "cell_type": "code",
   "execution_count": 44,
   "id": "50bcc707",
   "metadata": {},
   "outputs": [],
   "source": [
    "from sklearn.model_selection import train_test_split\n",
    "\n",
    "xtrain, xtest, ytrain, ytest = train_test_split(x,y,\n",
    "                                               train_size=0.7,\n",
    "                                               random_state=1)"
   ]
  },
  {
   "cell_type": "markdown",
   "id": "ff13421c",
   "metadata": {},
   "source": [
    "### Random Forest Classification"
   ]
  },
  {
   "cell_type": "code",
   "execution_count": 45,
   "id": "a0066af6",
   "metadata": {},
   "outputs": [
    {
     "data": {
      "text/plain": [
       "array([0, 0, 1, 0, 1])"
      ]
     },
     "execution_count": 45,
     "metadata": {},
     "output_type": "execute_result"
    }
   ],
   "source": [
    "from sklearn.ensemble import RandomForestClassifier\n",
    "\n",
    "model = RandomForestClassifier(n_estimators=100) # Create a Random Forest Classifier model with 100 trees (n_estimators)\n",
    "model.fit(xtrain, ytrain) # Fit the model to the training data\n",
    "trainpred = model.predict(xtrain) # Make predictions on the training data\n",
    "trainpred[:5]  # Display the first 5 predictions"
   ]
  },
  {
   "cell_type": "code",
   "execution_count": 46,
   "id": "5c368d7c",
   "metadata": {},
   "outputs": [
    {
     "data": {
      "text/plain": [
       "array([[0.98, 0.02],\n",
       "       [1.  , 0.  ],\n",
       "       [0.11, 0.89],\n",
       "       [1.  , 0.  ],\n",
       "       [0.08, 0.92]])"
      ]
     },
     "execution_count": 46,
     "metadata": {},
     "output_type": "execute_result"
    }
   ],
   "source": [
    "model.predict_proba(xtrain)[:5] # Predict probabilities for training data"
   ]
  },
  {
   "cell_type": "code",
   "execution_count": 47,
   "id": "764ed005",
   "metadata": {},
   "outputs": [
    {
     "name": "stdout",
     "output_type": "stream",
     "text": [
      "              precision    recall  f1-score   support\n",
      "\n",
      "           0       1.00      1.00      1.00      7241\n",
      "           1       1.00      1.00      1.00      1253\n",
      "\n",
      "    accuracy                           1.00      8494\n",
      "   macro avg       1.00      1.00      1.00      8494\n",
      "weighted avg       1.00      1.00      1.00      8494\n",
      "\n"
     ]
    }
   ],
   "source": [
    "from sklearn.metrics import classification_report \n",
    "\n",
    "# Generate a classification report to evaluate the model's performance on the training data\n",
    "print(classification_report(ytrain, trainpred))"
   ]
  },
  {
   "cell_type": "code",
   "execution_count": 48,
   "id": "72ab38fc",
   "metadata": {},
   "outputs": [
    {
     "name": "stdout",
     "output_type": "stream",
     "text": [
      "              precision    recall  f1-score   support\n",
      "\n",
      "           0       0.96      0.98      0.97      3109\n",
      "           1       0.87      0.74      0.80       532\n",
      "\n",
      "    accuracy                           0.95      3641\n",
      "   macro avg       0.91      0.86      0.89      3641\n",
      "weighted avg       0.94      0.95      0.94      3641\n",
      "\n"
     ]
    }
   ],
   "source": [
    "# Generate a classification report to evaluate the model's performance on the test data\n",
    "testpred = model.predict(xtest)         \n",
    "print(classification_report(ytest, testpred))"
   ]
  },
  {
   "cell_type": "markdown",
   "id": "4b3c24e5",
   "metadata": {},
   "source": [
    "*The classification model, especially the Random Forest one, is rocking it! It's hitting a solid 95% accuracy on new stuff it hasn't seen before. The precision and recall for one type of project (they call it Class 0) are top-notch, like hitting 100% in a test you didn't even study for! For the other type (Class 1), it's doing great but stumbled a bit, like getting a high grade but with a tiny hiccup.*"
   ]
  }
 ],
 "metadata": {
  "kernelspec": {
   "display_name": "Python 3 (ipykernel)",
   "language": "python",
   "name": "python3"
  },
  "language_info": {
   "codemirror_mode": {
    "name": "ipython",
    "version": 3
   },
   "file_extension": ".py",
   "mimetype": "text/x-python",
   "name": "python",
   "nbconvert_exporter": "python",
   "pygments_lexer": "ipython3",
   "version": "3.11.4"
  }
 },
 "nbformat": 4,
 "nbformat_minor": 5
}
